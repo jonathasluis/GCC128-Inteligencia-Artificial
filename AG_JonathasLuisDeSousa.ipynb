{
  "nbformat": 4,
  "nbformat_minor": 0,
  "metadata": {
    "colab": {
      "provenance": []
    },
    "kernelspec": {
      "name": "python3",
      "display_name": "Python 3"
    },
    "language_info": {
      "name": "python"
    }
  },
  "cells": [
    {
      "cell_type": "code",
      "source": [
        "import numpy\n",
        "import random"
      ],
      "metadata": {
        "id": "0yIAlP4mu2iP"
      },
      "execution_count": 1,
      "outputs": []
    },
    {
      "cell_type": "code",
      "source": [
        "# Parâmetros\n",
        "numeroDeIndividuos = 4\n",
        "numeroDeGeracoes = 5\n",
        "taxaCrossover = 0.7\n",
        "taxaMutacao = 0.01"
      ],
      "metadata": {
        "id": "eKRrJs1bu7Bd"
      },
      "execution_count": 2,
      "outputs": []
    },
    {
      "cell_type": "code",
      "source": [
        "# Inicialização da população\n",
        "populacao = [random.choices([0, 1], k=14) for _ in range(numeroDeIndividuos)]"
      ],
      "metadata": {
        "id": "hMTFpP7qvNZB"
      },
      "execution_count": 3,
      "outputs": []
    },
    {
      "cell_type": "code",
      "source": [
        "# Função para calcular o valor de f(x) dado um vetor binário que representa x\n",
        "def fitnessBinario(vetorBinario):\n",
        "    x = binarioParaDecimal(vetorBinario)\n",
        "    return fitnessDecimal(x)"
      ],
      "metadata": {
        "id": "UmgYLjKFvhw1"
      },
      "execution_count": 4,
      "outputs": []
    },
    {
      "cell_type": "code",
      "source": [
        "def fitnessDecimal(x):\n",
        "    return eval('x**2 - 3*x + 4')"
      ],
      "metadata": {
        "id": "1Ii6in5rDWRm"
      },
      "execution_count": 5,
      "outputs": []
    },
    {
      "cell_type": "code",
      "source": [
        "# Função para converter um vetor binário em um valor decimal\n",
        "def binarioParaDecimal(vetorBinario):\n",
        "    decimal = 0\n",
        "    for bit in vetorBinario:\n",
        "        decimal = decimal * 2 + bit\n",
        "    return -10 + decimal * (20 / (2**len(vetorBinario) - 1))"
      ],
      "metadata": {
        "id": "jbMIZGMFvmzu"
      },
      "execution_count": 6,
      "outputs": []
    },
    {
      "cell_type": "code",
      "source": [
        "# Função para realizar o crossover entre dois indivíduos\n",
        "def crossover(pai1, pai2):\n",
        "    crossoverPoint = numpy.random.randint(1, min(len(pai1),len(pai2)) - 1)\n",
        "    filho1 = pai1[:crossoverPoint] + pai2[crossoverPoint:]\n",
        "    filho2 = pai2[:crossoverPoint] + pai1[crossoverPoint:]\n",
        "    return filho1, filho2"
      ],
      "metadata": {
        "id": "yEfz_fvMvoBg"
      },
      "execution_count": 7,
      "outputs": []
    },
    {
      "cell_type": "code",
      "source": [
        "# Função para aplicar a mutação em um indivíduo\n",
        "def mutacao(individuo, taxaMutacao):\n",
        "    individuoMutante = []\n",
        "    for bit in individuo:\n",
        "        if random.random() < taxaMutacao:\n",
        "            individuoMutante.append(1 - bit)\n",
        "        else:\n",
        "            individuoMutante.append(bit)\n",
        "    return individuoMutante"
      ],
      "metadata": {
        "id": "yV8CQMuIvyl6"
      },
      "execution_count": 8,
      "outputs": []
    },
    {
      "cell_type": "code",
      "source": [
        "def printBinarioDecimal(populacao):\n",
        "  for i in populacao:\n",
        "    print(binarioParaDecimal(i))"
      ],
      "metadata": {
        "id": "sdT0RToS_XjA"
      },
      "execution_count": 9,
      "outputs": []
    },
    {
      "cell_type": "code",
      "source": [
        "# Algoritmo genético\n",
        "for geracao in range(numeroDeGeracoes):\n",
        "    print(\"\\n\")\n",
        "    print((\"Geração:\", geracao+1))\n",
        "    fitnessScores = [fitnessBinario(individuo) for individuo in populacao]\n",
        "    print(\"\\nPopulação\")\n",
        "    printBinarioDecimal(populacao)\n",
        "    print(\"\\nfitness calcuation\")\n",
        "    print(fitnessScores)\n",
        "\n",
        "    selectedParents = []\n",
        "    for _ in range(numeroDeIndividuos):\n",
        "        tournament_indices = random.sample(range(numeroDeIndividuos), 2)\n",
        "        tournament_scores = [fitnessScores[i] for i in tournament_indices]\n",
        "        selectedParents.append(populacao[tournament_indices[tournament_scores.index(max(tournament_scores))]])\n",
        "\n",
        "    print(\"\\nParents:\")\n",
        "    printBinarioDecimal(selectedParents)\n",
        "\n",
        "    novaPopulacao = []\n",
        "    for i in range(0, numeroDeIndividuos, 2):\n",
        "        if random.random() < taxaCrossover:\n",
        "            filho1, filho2 = crossover(selectedParents[i], selectedParents[i + 1])\n",
        "        else:\n",
        "            filho1, filho2 = selectedParents[i], selectedParents[i + 1]\n",
        "\n",
        "        filho1 = mutacao(filho1, taxaMutacao)\n",
        "        filho2 = mutacao(filho2, taxaMutacao)\n",
        "\n",
        "        novaPopulacao.extend([filho1, filho2])\n",
        "\n",
        "    populacao = novaPopulacao\n",
        "    print(\"\\nPopulação depois do Crossover e Mutação\")\n",
        "    printBinarioDecimal(populacao)\n",
        "\n",
        "melhorIndividuo = max(populacao, key=fitnessBinario)\n",
        "melhoIndividuoDecimal = binarioParaDecimal(melhorIndividuo)\n",
        "Melhorfitness = fitnessDecimal(melhoIndividuoDecimal)\n",
        "\n",
        "print(f\"Melhor valor de x encontrado: {melhoIndividuoDecimal}\")\n",
        "print(f\"Valor máximo de f(x): {Melhorfitness}\")\n"
      ],
      "metadata": {
        "colab": {
          "base_uri": "https://localhost:8080/"
        },
        "id": "PyOfMq42zjsi",
        "outputId": "a3757e6b-463b-42be-a739-adfa957871ac"
      },
      "execution_count": 10,
      "outputs": [
        {
          "output_type": "stream",
          "name": "stdout",
          "text": [
            "\n",
            "\n",
            "('Geração:', 1)\n",
            "\n",
            "População\n",
            "-5.623512177256913\n",
            "-3.9009949337728136\n",
            "1.5107123237502282\n",
            "-3.803332722944516\n",
            "\n",
            "fitness calcuation\n",
            "[52.49442573952753, 30.920746274639598, 1.7501147538801298, 29.875337970254094]\n",
            "\n",
            "Parents:\n",
            "-3.803332722944516\n",
            "-3.803332722944516\n",
            "-5.623512177256913\n",
            "-5.623512177256913\n",
            "\n",
            "População depois do Crossover e Mutação\n",
            "-3.803332722944516\n",
            "-3.803332722944516\n",
            "-8.123664774461332\n",
            "-5.623512177256913\n",
            "\n",
            "\n",
            "('Geração:', 2)\n",
            "\n",
            "População\n",
            "-3.803332722944516\n",
            "-3.803332722944516\n",
            "-8.123664774461332\n",
            "-5.623512177256913\n",
            "\n",
            "fitness calcuation\n",
            "[29.875337970254094, 29.875337970254094, 94.36492369120788, 52.49442573952753]\n",
            "\n",
            "Parents:\n",
            "-3.803332722944516\n",
            "-5.623512177256913\n",
            "-5.623512177256913\n",
            "-3.803332722944516\n",
            "\n",
            "População depois do Crossover e Mutação\n",
            "-3.803332722944516\n",
            "-5.623512177256913\n",
            "-6.303485320148935\n",
            "-2.8108405054019414\n",
            "\n",
            "\n",
            "('Geração:', 3)\n",
            "\n",
            "População\n",
            "-3.803332722944516\n",
            "-5.623512177256913\n",
            "-6.303485320148935\n",
            "-2.8108405054019414\n",
            "\n",
            "fitness calcuation\n",
            "[29.875337970254094, 52.49442573952753, 62.644383141779926, 20.333345863014067]\n",
            "\n",
            "Parents:\n",
            "-3.803332722944516\n",
            "-6.303485320148935\n",
            "-6.303485320148935\n",
            "-6.303485320148935\n",
            "\n",
            "População depois do Crossover e Mutação\n",
            "-3.803332722944516\n",
            "-6.303485320148935\n",
            "-6.323017762314595\n",
            "-6.303485320148935\n",
            "\n",
            "\n",
            "('Geração:', 4)\n",
            "\n",
            "População\n",
            "-3.803332722944516\n",
            "-6.303485320148935\n",
            "-6.323017762314595\n",
            "-6.303485320148935\n",
            "\n",
            "fitness calcuation\n",
            "[29.875337970254094, 62.644383141779926, 62.949606909489646, 62.644383141779926]\n",
            "\n",
            "Parents:\n",
            "-6.323017762314595\n",
            "-6.323017762314595\n",
            "-6.303485320148935\n",
            "-6.303485320148935\n",
            "\n",
            "População depois do Crossover e Mutação\n",
            "-6.323017762314595\n",
            "-6.323017762314595\n",
            "-6.303485320148935\n",
            "-6.6160043947994875\n",
            "\n",
            "\n",
            "('Geração:', 5)\n",
            "\n",
            "População\n",
            "-6.323017762314595\n",
            "-6.323017762314595\n",
            "-6.303485320148935\n",
            "-6.6160043947994875\n",
            "\n",
            "fitness calcuation\n",
            "[62.949606909489646, 62.949606909489646, 62.644383141779926, 67.61952733640459]\n",
            "\n",
            "Parents:\n",
            "-6.6160043947994875\n",
            "-6.323017762314595\n",
            "-6.6160043947994875\n",
            "-6.6160043947994875\n",
            "\n",
            "População depois do Crossover e Mutação\n",
            "-6.6160043947994875\n",
            "-6.323017762314595\n",
            "-6.6160043947994875\n",
            "-6.6160043947994875\n",
            "Melhor valor de x encontrado: -6.6160043947994875\n",
            "Valor máximo de f(x): 67.61952733640459\n"
          ]
        }
      ]
    }
  ]
}